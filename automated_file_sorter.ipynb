{
 "cells": [
  {
   "cell_type": "code",
   "execution_count": 33,
   "id": "ea7fa836-7263-4f8d-937c-c1be85564900",
   "metadata": {},
   "outputs": [],
   "source": [
    "import os,shutil"
   ]
  },
  {
   "cell_type": "code",
   "execution_count": 34,
   "id": "ce453714-247c-4027-af34-06447788dfc2",
   "metadata": {},
   "outputs": [],
   "source": [
    "path=r\"C:/Users/Dell/OneDrive/Documents/python tutorial/\""
   ]
  },
  {
   "cell_type": "code",
   "execution_count": 35,
   "id": "818ac094-0f70-4c28-a3ab-bb817dcff0c4",
   "metadata": {},
   "outputs": [],
   "source": [
    "file_name=os.listdir(path)"
   ]
  },
  {
   "cell_type": "code",
   "execution_count": 36,
   "id": "e30e59d4-6005-4d41-806a-a32cb6945063",
   "metadata": {},
   "outputs": [],
   "source": [
    "folder_names=['csv files','image files','excel sheets','doc files','pdf files']\n",
    "\n",
    "for loop in range(0,5):\n",
    "    if not os.path.exists(path+folder_names[loop]):\n",
    "        print(path+folder_names[loop])\n",
    "        os.makedirs(path+folder_names[loop])\n",
    "\n",
    "    "
   ]
  },
  {
   "cell_type": "code",
   "execution_count": 38,
   "id": "f7a84aef-baa8-48d4-8d86-c8c9f7439e89",
   "metadata": {},
   "outputs": [],
   "source": [
    "for file in file_name:\n",
    "    if '.csv' in file and not  os.path.exists(path+'csv files/'+file):\n",
    "        shutil.move(path+ file,path+'csv files/'+file)\n",
    "    elif '.jpeg' in file and not os.path.exists(path+'image files/'+file):\n",
    "        shutil.move(path+file,path+'image files/'+file)\n",
    "    elif '.xlsx' in file and not os.path.exists(path+'excel sheets/'+file):\n",
    "        shutil.move(path+file,path+'excel sheets/'+file)\n",
    "    elif '.docx' in file and not os.path.exists(path+'doc files/'+file):\n",
    "        shutil.move(path+file,path+'doc files/'+file)\n",
    "    elif '.pdf' in file and not os.path.exists(path+'pdf file/'+file):\n",
    "        shutil.move(path+file,path+'pdf files/'+file)"
   ]
  },
  {
   "cell_type": "code",
   "execution_count": null,
   "id": "2fade2ed-6b3f-4ee7-a204-04aecda5d47c",
   "metadata": {},
   "outputs": [],
   "source": []
  },
  {
   "cell_type": "code",
   "execution_count": null,
   "id": "a8532ea7-91a9-42cc-b692-1ecf1fcf3630",
   "metadata": {},
   "outputs": [],
   "source": []
  },
  {
   "cell_type": "code",
   "execution_count": null,
   "id": "79b75a8f-a9f7-487f-9d25-df672405b771",
   "metadata": {},
   "outputs": [],
   "source": []
  },
  {
   "cell_type": "code",
   "execution_count": null,
   "id": "ac0e391d-a77a-46fc-911a-7c5e76b4ad1a",
   "metadata": {},
   "outputs": [],
   "source": []
  },
  {
   "cell_type": "code",
   "execution_count": null,
   "id": "0e631374-2cae-4877-b4a6-c5588e29f6c0",
   "metadata": {},
   "outputs": [],
   "source": []
  },
  {
   "cell_type": "code",
   "execution_count": null,
   "id": "8176dc76-7db0-44b2-9edc-ce9f685f878a",
   "metadata": {},
   "outputs": [],
   "source": []
  },
  {
   "cell_type": "code",
   "execution_count": null,
   "id": "7838c20d-2d4b-4b86-b87a-49b99c7f8ec1",
   "metadata": {},
   "outputs": [],
   "source": []
  }
 ],
 "metadata": {
  "kernelspec": {
   "display_name": "Python 3 (ipykernel)",
   "language": "python",
   "name": "python3"
  },
  "language_info": {
   "codemirror_mode": {
    "name": "ipython",
    "version": 3
   },
   "file_extension": ".py",
   "mimetype": "text/x-python",
   "name": "python",
   "nbconvert_exporter": "python",
   "pygments_lexer": "ipython3",
   "version": "3.10.4"
  }
 },
 "nbformat": 4,
 "nbformat_minor": 5
}
